{
 "cells": [
  {
   "cell_type": "code",
   "execution_count": 8,
   "metadata": {},
   "outputs": [
    {
     "name": "stdout",
     "output_type": "stream",
     "text": [
      "45: Bar\n",
      "50: Bar + 1x2.5\n",
      "90: Bar + 2x10 + 1x2.5\n",
      "95: Bar + 1x25\n",
      "135: Bar + 1x45\n",
      "155: Bar + 1x45 + 1x10\n",
      "185: Bar + 1x45 + 1x25\n",
      "225: Bar + 2x45\n",
      "230: Bar + 2x45 + 1x2.5\n",
      "255: Bar + 2x45 + 1x10 + 1x5\n",
      "275: Bar + 2x45 + 1x25\n",
      "295: Bar + 2x45 + 1x35\n",
      "315: Bar + 3x45\n",
      "365: Bar + 3x45 + 1x25\n",
      "405: Bar + 4x45\n"
     ]
    }
   ],
   "source": [
    "def decompose_weight(total_weight):\n",
    "  bar_weight = 45\n",
    "  plate_weights = [45, 35, 25, 10, 5, 2.5]\n",
    "  plate_counts = {}\n",
    "\n",
    "  remaining_weight = total_weight - bar_weight\n",
    "\n",
    "  for weight in plate_weights:\n",
    "      increment = (weight * 2)\n",
    "      if remaining_weight >= increment:\n",
    "        count = int(remaining_weight // increment)\n",
    "        plate_counts[weight] = count\n",
    "        remaining_weight -= count * increment\n",
    "\n",
    "  decomposition = [\"Bar\"] + [f\" + {count}x{weight}\" for weight, count in plate_counts.items() if count > 0]\n",
    "  return ''.join(decomposition)\n",
    "\n",
    "# Example usage:\n",
    "res = {w: decompose_weight(w) for w in [45, 50, 90, 95, 135, 155, 185, 225, 230, 255, 275, 295, 315, 365, 405]}\n",
    "for w, d in res.items():\n",
    "  print(f'{w}: {d}')"
   ]
  },
  {
   "cell_type": "code",
   "execution_count": null,
   "metadata": {},
   "outputs": [],
   "source": [
    "=\"Bar\" & \n",
    "IF(MOD((A3-45),90)=0,\" + \"&ROUND((A3-45)/90,0)&\"*45\",\"\") & \n",
    "IF(MOD(MOD((A3-45),90),70)=0,\" + \"&ROUND(MOD((A3-45),90)/70,0)&\"*35\",\"\") & \n",
    "IF(MOD(MOD(MOD((A3-45),90),70),50)=0,\" + \"&ROUND(MOD(MOD((A3-45),90),70)/50,0)&\"*25\",\"\") & \n",
    "IF(MOD(MOD(MOD(MOD((A3-45),90),70),50),20)=0,\" + \"&ROUND(MOD(MOD(MOD((A3-45),90),70),50)/20,0)&\"*10\",\"\") & \n",
    "IF(MOD(MOD(MOD(MOD(MOD((A3-45),90),70),50),20),10)=0,\" + \"&ROUND(MOD(MOD(MOD(MOD((A3-45),90),70),50),20)/10,0)&\"*5\",\"\") & \n",
    "IF(MOD(MOD(MOD(MOD(MOD(MOD((A3-45),90),70),50),20),10),5)=0,\" + \"&ROUND(MOD(MOD(MOD(MOD(MOD((A3-45),90),70),50),20),10)/5,0)&\"*2.5\",\"\")\n"
   ]
  },
  {
   "cell_type": "code",
   "execution_count": 1,
   "metadata": {},
   "outputs": [
    {
     "data": {
      "text/plain": [
       "2"
      ]
     },
     "execution_count": 1,
     "metadata": {},
     "output_type": "execute_result"
    }
   ],
   "source": [
    "5//2"
   ]
  }
 ],
 "metadata": {
  "kernelspec": {
   "display_name": "depths",
   "language": "python",
   "name": "python3"
  },
  "language_info": {
   "codemirror_mode": {
    "name": "ipython",
    "version": 3
   },
   "file_extension": ".py",
   "mimetype": "text/x-python",
   "name": "python",
   "nbconvert_exporter": "python",
   "pygments_lexer": "ipython3",
   "version": "3.10.6"
  }
 },
 "nbformat": 4,
 "nbformat_minor": 2
}
